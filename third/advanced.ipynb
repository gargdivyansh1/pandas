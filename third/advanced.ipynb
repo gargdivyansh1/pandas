{
 "cells": [
  {
   "cell_type": "code",
   "execution_count": 46,
   "id": "1a370456",
   "metadata": {},
   "outputs": [],
   "source": [
    "import pandas as pd"
   ]
  },
  {
   "cell_type": "markdown",
   "id": "bcbfb198",
   "metadata": {},
   "source": [
    "### Adding columns"
   ]
  },
  {
   "cell_type": "code",
   "execution_count": 8,
   "id": "e9d8d8f3",
   "metadata": {},
   "outputs": [
    {
     "name": "stdout",
     "output_type": "stream",
     "text": [
      "        Name  Age  Salary  Performance_Score\n",
      "0        Ram   23  656565                 76\n",
      "1      Shyam   45  787887                 45\n",
      "2  Ghanshyam   32  899898                 32\n",
      "3      Aditi   45  344334                 86\n",
      "4    Jagdish   67  766767                 53\n",
      "5        Raj   89  545454                 46\n",
      "6     Simran   21  900909                 87\n",
      "        Name  Age  Salary  Performance_Score    Bonus\n",
      "0        Ram   23  656565                 76  65656.5\n",
      "1      Shyam   45  787887                 45  78788.7\n",
      "2  Ghanshyam   32  899898                 32  89989.8\n",
      "3      Aditi   45  344334                 86  34433.4\n",
      "4    Jagdish   67  766767                 53  76676.7\n",
      "5        Raj   89  545454                 46  54545.4\n",
      "6     Simran   21  900909                 87  90090.9\n",
      "   Employee_id       Name  Age  Salary  Performance_Score    Bonus\n",
      "0           10        Ram   23  656565                 76  65656.5\n",
      "1           20      Shyam   45  787887                 45  78788.7\n",
      "2           30  Ghanshyam   32  899898                 32  89989.8\n",
      "3           40      Aditi   45  344334                 86  34433.4\n",
      "4           50    Jagdish   67  766767                 53  76676.7\n",
      "5           60        Raj   89  545454                 46  54545.4\n",
      "6           70     Simran   21  900909                 87  90090.9\n"
     ]
    }
   ],
   "source": [
    "data = {\n",
    "    \"Name\": [\"Ram\", \"Shyam\", \"Ghanshyam\", \"Aditi\", \"Jagdish\", \"Raj\", \"Simran\"],\n",
    "    \"Age\": [23,45,32,45,67,89,21],\n",
    "    \"Salary\": [656565,787887,899898,344334,766767,545454,900909],\n",
    "    \"Performance_Score\": [76,45,32,86,53,46,87]\n",
    "}\n",
    "\n",
    "df = pd.DataFrame(data)\n",
    "print(df)\n",
    "\n",
    "\n",
    "## adding column using square bracket \n",
    "df[\"Bonus\"] = df[\"Salary\"] * 0.1\n",
    "print(df)\n",
    "\n",
    "\n",
    "## adding data using insert method \n",
    "## df.insert(location, \"Column_Name\", data_for_Columns)\n",
    "df.insert(0, \"Employee_id\", [10,20,30,40,50,60,70])\n",
    "print(df)"
   ]
  },
  {
   "cell_type": "code",
   "execution_count": null,
   "id": "8ad452d5",
   "metadata": {},
   "outputs": [],
   "source": []
  },
  {
   "cell_type": "markdown",
   "id": "1b7f60a4",
   "metadata": {},
   "source": [
    "### Updating values"
   ]
  },
  {
   "cell_type": "code",
   "execution_count": null,
   "id": "bc28764b",
   "metadata": {},
   "outputs": [
    {
     "name": "stdout",
     "output_type": "stream",
     "text": [
      "        Name  Age  Salary  Performance_Score\n",
      "0        Ram   23  656565                 76\n",
      "1      Shyam   45  787887                 45\n",
      "2  Ghanshyam   32  899898                 32\n",
      "3      Aditi   45  344334                 86\n",
      "4    Jagdish   67  766767                 53\n",
      "5        Raj   89  545454                 46\n",
      "6     Simran   21  900909                 87\n",
      "        Name  Age   Salary  Performance_Score\n",
      "0        Ram   23  1000000                 76\n",
      "1      Shyam   45   787887                 45\n",
      "2  Ghanshyam   32   899898                 32\n",
      "3      Aditi   45   344334                 86\n",
      "4    Jagdish   67   766767                 53\n",
      "5        Raj   89   545454                 46\n",
      "6     Simran   21   900909                 87\n",
      "        Name  Age      Salary  Performance_Score\n",
      "0        Ram   23  1050000.00                 76\n",
      "1      Shyam   45   827281.35                 45\n",
      "2  Ghanshyam   32   944892.90                 32\n",
      "3      Aditi   45   361550.70                 86\n",
      "4    Jagdish   67   805105.35                 53\n",
      "5        Raj   89   572726.70                 46\n",
      "6     Simran   21   945954.45                 87\n"
     ]
    }
   ],
   "source": [
    "## updating the data of a specific cell \n",
    "\n",
    "## Syntax -- df.loc[row_index, \"Column_Name\"] = new_value\n",
    "\n",
    "data = {\n",
    "    \"Name\": [\"Ram\", \"Shyam\", \"Ghanshyam\", \"Aditi\", \"Jagdish\", \"Raj\", \"Simran\"],\n",
    "    \"Age\": [23,45,32,45,67,89,21],\n",
    "    \"Salary\": [656565,787887,899898,344334,766767,545454,900909],\n",
    "    \"Performance_Score\": [76,45,32,86,53,46,87]\n",
    "}\n",
    "\n",
    "df = pd.DataFrame(data)\n",
    "print(df)\n",
    "\n",
    "## updating the salary of Ram\n",
    "df.loc[0, \"Salary\"] = 1000000\n",
    "print(df)\n",
    "\n",
    "## updating the salary of all the employee\n",
    "## in this case .. we should remember that we are updating this means we have to make change which will result in the final value\n",
    "df[\"Salary\"] = df[\"Salary\"] * 1.05\n",
    "print(df)"
   ]
  },
  {
   "cell_type": "markdown",
   "id": "c7fc638d",
   "metadata": {},
   "source": [
    "### Deleting columns"
   ]
  },
  {
   "cell_type": "code",
   "execution_count": 15,
   "id": "89cf1877",
   "metadata": {},
   "outputs": [
    {
     "name": "stdout",
     "output_type": "stream",
     "text": [
      "        Name  Age  Salary  Performance_Score\n",
      "0        Ram   23  656565                 76\n",
      "1      Shyam   45  787887                 45\n",
      "2  Ghanshyam   32  899898                 32\n",
      "3      Aditi   45  344334                 86\n",
      "4    Jagdish   67  766767                 53\n",
      "5        Raj   89  545454                 46\n",
      "6     Simran   21  900909                 87\n",
      "        Name  Salary  Performance_Score\n",
      "0        Ram  656565                 76\n",
      "1      Shyam  787887                 45\n",
      "2  Ghanshyam  899898                 32\n",
      "3      Aditi  344334                 86\n",
      "4    Jagdish  766767                 53\n",
      "5        Raj  545454                 46\n",
      "6     Simran  900909                 87\n",
      "        Name\n",
      "0        Ram\n",
      "1      Shyam\n",
      "2  Ghanshyam\n",
      "3      Aditi\n",
      "4    Jagdish\n",
      "5        Raj\n",
      "6     Simran\n"
     ]
    }
   ],
   "source": [
    "data = {\n",
    "    \"Name\": [\"Ram\", \"Shyam\", \"Ghanshyam\", \"Aditi\", \"Jagdish\", \"Raj\", \"Simran\"],\n",
    "    \"Age\": [23,45,32,45,67,89,21],\n",
    "    \"Salary\": [656565,787887,899898,344334,766767,545454,900909],\n",
    "    \"Performance_Score\": [76,45,32,86,53,46,87]\n",
    "}\n",
    "\n",
    "df = pd.DataFrame(data)\n",
    "print(df)\n",
    "\n",
    "\n",
    "## for deleting single column\n",
    "df.drop(columns=[\"Age\"], inplace=True)\n",
    "print(df)\n",
    "\n",
    "## for deleting multiple columns\n",
    "df.drop(columns=[\"Performance_Score\", \"Salary\"], inplace=True)\n",
    "print(df)\n"
   ]
  },
  {
   "cell_type": "markdown",
   "id": "8671d564",
   "metadata": {},
   "source": [
    "### Handling Missing Data"
   ]
  },
  {
   "cell_type": "code",
   "execution_count": null,
   "id": "9e343163",
   "metadata": {},
   "outputs": [],
   "source": [
    "# NaN (Not a Number)\n",
    "# None (for object data types)\n"
   ]
  },
  {
   "cell_type": "markdown",
   "id": "7e0f0e31",
   "metadata": {},
   "source": [
    "### isnull() method"
   ]
  },
  {
   "cell_type": "code",
   "execution_count": 4,
   "id": "603f8bbc",
   "metadata": {},
   "outputs": [
    {
     "name": "stdout",
     "output_type": "stream",
     "text": [
      "        Name   Age    Salary  Performance_Score\n",
      "0        Ram  23.0  656565.0               76.0\n",
      "1       None   NaN       NaN                NaN\n",
      "2  Ghanshyam  32.0  899898.0               32.0\n",
      "3      Aditi  45.0  344334.0               86.0\n",
      "4    Jagdish  67.0  766767.0               53.0\n",
      "5        Raj  89.0  545454.0               46.0\n",
      "6     Simran  21.0  900909.0               87.0\n",
      "    Name    Age  Salary  Performance_Score\n",
      "0  False  False   False              False\n",
      "1   True   True    True               True\n",
      "2  False  False   False              False\n",
      "3  False  False   False              False\n",
      "4  False  False   False              False\n",
      "5  False  False   False              False\n",
      "6  False  False   False              False\n",
      "Name                 1\n",
      "Age                  1\n",
      "Salary               1\n",
      "Performance_Score    1\n",
      "dtype: int64\n"
     ]
    }
   ],
   "source": [
    "# return boolean value \n",
    "# if the value is missing then it will return true\n",
    "# if the value is present then it will return false \n",
    "\n",
    "\n",
    "data = {\n",
    "    \"Name\": [\"Ram\", None, \"Ghanshyam\", \"Aditi\", \"Jagdish\", \"Raj\", \"Simran\"],\n",
    "    \"Age\": [23,None,32,45,67,89,21],\n",
    "    \"Salary\": [656565,None,899898,344334,766767,545454,900909],\n",
    "    \"Performance_Score\": [76,None,32,86,53,46,87]\n",
    "}\n",
    "\n",
    "df = pd.DataFrame(data)\n",
    "print(df)\n",
    "\n",
    "print(df.isnull())\n",
    "\n",
    "\n",
    "## isnull().sum() -- this method is used for returning the number of missing value in each column\n",
    "print(df.isnull().sum())"
   ]
  },
  {
   "cell_type": "markdown",
   "id": "ae914620",
   "metadata": {},
   "source": [
    "### dropna() method"
   ]
  },
  {
   "cell_type": "code",
   "execution_count": 13,
   "id": "4edc2f77",
   "metadata": {},
   "outputs": [
    {
     "name": "stdout",
     "output_type": "stream",
     "text": [
      "        Name   Age    Salary  Performance_Score\n",
      "0        Ram  23.0  656565.0               76.0\n",
      "1       None   NaN       NaN                NaN\n",
      "2  Ghanshyam  32.0  899898.0               87.0\n",
      "3      Aditi  45.0  344334.0               86.0\n",
      "4    Jagdish  67.0  766767.0               53.0\n",
      "5        Raj  89.0  545454.0               46.0\n",
      "6     Simran  21.0  900909.0               87.0\n",
      "    Name    Age  Salary  Performance_Score\n",
      "0  False  False   False              False\n",
      "1   True   True    True               True\n",
      "2  False  False   False              False\n",
      "3  False  False   False              False\n",
      "4  False  False   False              False\n",
      "5  False  False   False              False\n",
      "6  False  False   False              False\n",
      "        Name   Age    Salary  Performance_Score\n",
      "0        Ram  23.0  656565.0               76.0\n",
      "2  Ghanshyam  32.0  899898.0               87.0\n",
      "3      Aditi  45.0  344334.0               86.0\n",
      "4    Jagdish  67.0  766767.0               53.0\n",
      "5        Raj  89.0  545454.0               46.0\n",
      "6     Simran  21.0  900909.0               87.0\n"
     ]
    }
   ],
   "source": [
    "# when we want to delete the none values columns or rows then we use this method \n",
    "\n",
    "data = {\n",
    "    \"Name\": [\"Ram\", None, \"Ghanshyam\", \"Aditi\", \"Jagdish\", \"Raj\", \"Simran\"],\n",
    "    \"Age\": [23,None,32,45,67,89,21],\n",
    "    \"Salary\": [656565,None,899898,344334,766767,545454,900909],\n",
    "    \"Performance_Score\": [76,None,87,86,53,46,87]\n",
    "}\n",
    "\n",
    "df = pd.DataFrame(data)\n",
    "print(df)\n",
    "\n",
    "print(df.isnull())\n",
    "\n",
    "# axis = 0 -- means removing rows\n",
    "# this will remove each row which contain any None value \n",
    "\n",
    "# axis = 1 -- means removing columns\n",
    "# this will remove each column which contain any None value\n",
    "\n",
    "df.dropna(axis=0, inplace=True)\n",
    "print(df)\n"
   ]
  },
  {
   "cell_type": "markdown",
   "id": "fc459ae7",
   "metadata": {},
   "source": [
    "### fillna() method"
   ]
  },
  {
   "cell_type": "code",
   "execution_count": 21,
   "id": "b69e11cd",
   "metadata": {},
   "outputs": [
    {
     "name": "stdout",
     "output_type": "stream",
     "text": [
      "        Name   Age    Salary  Performance_Score\n",
      "0        Ram  23.0  656565.0               76.0\n",
      "1       None   NaN       NaN                NaN\n",
      "2  Ghanshyam  32.0  899898.0               32.0\n",
      "3      Aditi  45.0  344334.0               86.0\n",
      "4    Jagdish  67.0  766767.0               53.0\n",
      "5        Raj  89.0  545454.0               46.0\n",
      "6     Simran  21.0  900909.0               87.0\n",
      "        Name        Age    Salary  Performance_Score\n",
      "0        Ram  23.000000  656565.0               76.0\n",
      "1       None  46.166667       NaN                NaN\n",
      "2  Ghanshyam  32.000000  899898.0               32.0\n",
      "3      Aditi  45.000000  344334.0               86.0\n",
      "4    Jagdish  67.000000  766767.0               53.0\n",
      "5        Raj  89.000000  545454.0               46.0\n",
      "6     Simran  21.000000  900909.0               87.0\n",
      "        Name        Age      Salary  Performance_Score\n",
      "0        Ram  23.000000    656565.0               76.0\n",
      "1       None  46.166667  78877878.0                NaN\n",
      "2  Ghanshyam  32.000000    899898.0               32.0\n",
      "3      Aditi  45.000000    344334.0               86.0\n",
      "4    Jagdish  67.000000    766767.0               53.0\n",
      "5        Raj  89.000000    545454.0               46.0\n",
      "6     Simran  21.000000    900909.0               87.0\n"
     ]
    }
   ],
   "source": [
    "# this method is used for filling the value in the place of None values\n",
    "\n",
    "\n",
    "data = {\n",
    "    \"Name\": [\"Ram\", None, \"Ghanshyam\", \"Aditi\", \"Jagdish\", \"Raj\", \"Simran\"],\n",
    "    \"Age\": [23,None,32,45,67,89,21],\n",
    "    \"Salary\": [656565,None,899898,344334,766767,545454,900909],\n",
    "    \"Performance_Score\": [76,None,32,86,53,46,87]\n",
    "}\n",
    "\n",
    "df = pd.DataFrame(data)\n",
    "print(df)\n",
    "\n",
    "# print(df.isnull())\n",
    "\n",
    "# this will fill 0 to each None value place\n",
    "# df.fillna(0, inplace=True)\n",
    "# print(df)\n",
    "\n",
    "\n",
    "# now suppose we only want to fill the value in the Age columns \n",
    "# then first we access it\n",
    "\n",
    "# df['Age'].fillna(43, inplace=True) -- both are same \n",
    "# df.fillna({'Age': 43}, inplace=True) -- both are same\n",
    "\n",
    "# print(df)\n",
    "\n",
    "# we can also give the value by using any equation also \n",
    "# like -- this will fill the mean value in it\n",
    "df.fillna( {'Age': df['Age'].mean()} , inplace=True)\n",
    "print(df)\n",
    "\n",
    "df.fillna( {\"Salary\": 78877878}, inplace=True)\n",
    "print(df)\n"
   ]
  },
  {
   "cell_type": "markdown",
   "id": "494ed856",
   "metadata": {},
   "source": [
    "### Interpolation"
   ]
  },
  {
   "cell_type": "code",
   "execution_count": 29,
   "id": "bb543e13",
   "metadata": {},
   "outputs": [
    {
     "name": "stdout",
     "output_type": "stream",
     "text": [
      "        Name   Age    Salary  Performance_Score\n",
      "0        Ram  23.0  656565.0               76.0\n",
      "1       None   NaN       NaN                NaN\n",
      "2  Ghanshyam  32.0  899898.0               32.0\n",
      "3      Aditi  45.0  344334.0               86.0\n",
      "4    Jagdish  67.0  766767.0               53.0\n",
      "5        Raj  89.0  545454.0               46.0\n",
      "6     Simran  21.0  900909.0               87.0\n",
      "        Name   Age    Salary  Performance_Score\n",
      "0        Ram  23.0  656565.0               76.0\n",
      "1       None  27.5       NaN                NaN\n",
      "2  Ghanshyam  32.0  899898.0               32.0\n",
      "3      Aditi  45.0  344334.0               86.0\n",
      "4    Jagdish  67.0  766767.0               53.0\n",
      "5        Raj  89.0  545454.0               46.0\n",
      "6     Simran  21.0  900909.0               87.0\n"
     ]
    }
   ],
   "source": [
    "# this is basically manipulation of the none values on the basis of other things \n",
    "# there are many kinds of interpolation -- linear, time, index, polynomial, spline and so on \n",
    "# we should not use this with data set such as Name, etc.\n",
    "\n",
    "\n",
    "data = {\n",
    "    \"Name\": [\"Ram\", None, \"Ghanshyam\", \"Aditi\", \"Jagdish\", \"Raj\", \"Simran\"],\n",
    "    \"Age\": [23,None,32,45,67,89,21],\n",
    "    \"Salary\": [656565,None,899898,344334,766767,545454,900909],\n",
    "    \"Performance_Score\": [76,None,32,86,53,46,87]\n",
    "}\n",
    "\n",
    "df = pd.DataFrame(data)\n",
    "print(df)\n",
    "\n",
    "# here we want to fill the value of age using the interopolation \n",
    "# this will auto fill the data into the age cell by examining the other values in the age columns of other rows\n",
    "\n",
    "# using index method -- giving value 27\n",
    "# df['Age'] = df['Age'].interpolate(method=\"index\")\n",
    "# print(df)\n",
    "\n",
    "# using linear method -- giving value 27 \n",
    "df['Age'] = df['Age'].interpolate(method=\"linear\")\n",
    "print(df)\n"
   ]
  },
  {
   "cell_type": "markdown",
   "id": "08cf8d3e",
   "metadata": {},
   "source": [
    "### Sorting and Aggregation"
   ]
  },
  {
   "cell_type": "code",
   "execution_count": null,
   "id": "807489b2",
   "metadata": {},
   "outputs": [
    {
     "name": "stdout",
     "output_type": "stream",
     "text": [
      "      Name  Age  Salary\n",
      "1    Reeta   12  545454\n",
      "0    Rahul   32  100000\n",
      "3   Aanshi   32   10020\n",
      "2  Malviya   78   30000\n",
      "      Name  Age  Salary\n",
      "2  Malviya   78   30000\n",
      "3   Aanshi   32   10020\n",
      "0    Rahul   32  100000\n",
      "1    Reeta   12  545454\n"
     ]
    }
   ],
   "source": [
    "## if we want to sort the dataFrame on the basis of single column \n",
    "## True -- ascending\n",
    "## False -- descending\n",
    "## syntax -- df.sort_values(by=\"Column Name\", True/False, inplace=True)\n",
    "\n",
    "data = {\n",
    "    \"Name\": [\"Rahul\", \"Reeta\", \"Malviya\", \"Aanshi\"],\n",
    "    \"Age\": [32,12,78,32],\n",
    "    \"Salary\": [100000, 545454, 30000, 10020]\n",
    "}\n",
    "\n",
    "df = pd.DataFrame(data)\n",
    "\n",
    "# now we will sort on the basis of the age\n",
    "df.sort_values(by=\"Age\", ascending=True, inplace=True)\n",
    "print(df)\n",
    "\n",
    "\n",
    "\n",
    "# now we want to sort the data on the basis of multiple columns \n",
    "df.sort_values(by=['Age', 'Salary'], ascending=[False, True], inplace=True)\n",
    "print(df)\n",
    "\n",
    "\n",
    "# agreggation is simply like using the methods like mean sum and many more .. not very tough "
   ]
  },
  {
   "cell_type": "markdown",
   "id": "f4d07436",
   "metadata": {},
   "source": [
    "### Grouping"
   ]
  },
  {
   "cell_type": "code",
   "execution_count": 41,
   "id": "658e3d5b",
   "metadata": {},
   "outputs": [
    {
     "name": "stdout",
     "output_type": "stream",
     "text": [
      "        Name  Age  Salary  Performance_Score\n",
      "0      Aditi   23  656565                 76\n",
      "1  Ghanshyam   32  899898                 32\n",
      "2      Aditi   23  344334                 86\n",
      "3    Jagdish   67  766767                 53\n",
      "4        Raj   89  545454                 46\n",
      "5     Simran   67  900909                 87\n",
      "<pandas.core.groupby.generic.DataFrameGroupBy object at 0x0000021FBBBDE8D0>\n",
      "Age\n",
      "23    1000899\n",
      "32     899898\n",
      "67    1667676\n",
      "89     545454\n",
      "Name: Salary, dtype: int64\n",
      "Age  Name     \n",
      "23   Aditi        1000899\n",
      "32   Ghanshyam     899898\n",
      "67   Jagdish       766767\n",
      "     Simran        900909\n",
      "89   Raj           545454\n",
      "Name: Salary, dtype: int64\n"
     ]
    }
   ],
   "source": [
    "\n",
    "data = {\n",
    "    \"Name\": [\"Aditi\", \"Ghanshyam\", \"Aditi\", \"Jagdish\", \"Raj\", \"Simran\"],\n",
    "    \"Age\": [23,32,23,67,89,67],\n",
    "    \"Salary\": [656565,899898,344334,766767,545454,900909],\n",
    "    \"Performance_Score\": [76,32,86,53,46,87]\n",
    "}\n",
    "\n",
    "df = pd.DataFrame(data)\n",
    "print(df)\n",
    "\n",
    "\n",
    "## grouping the columns on the basis of one or more columns \n",
    "grouped = df.groupby('Age')\n",
    "print(grouped)\n",
    "\n",
    "## now we want to sum the salary of the same age people \n",
    "grouped = df.groupby(\"Age\")['Salary'].sum()\n",
    "print(grouped)\n",
    "\n",
    "\n",
    "## with multiple columns\n",
    "grouped = df.groupby([\"Age\", \"Name\"])[\"Salary\"].sum()\n",
    "print(grouped)\n"
   ]
  },
  {
   "cell_type": "code",
   "execution_count": null,
   "id": "cf747a67",
   "metadata": {},
   "outputs": [],
   "source": [
    "## sum()\n",
    "## mean()\n",
    "## count()\n",
    "## min()\n",
    "## max()\n",
    "## std()"
   ]
  },
  {
   "cell_type": "markdown",
   "id": "77d2035f",
   "metadata": {},
   "source": [
    "### Merging and Joining"
   ]
  },
  {
   "cell_type": "code",
   "execution_count": null,
   "id": "e2eac918",
   "metadata": {},
   "outputs": [
    {
     "name": "stdout",
     "output_type": "stream",
     "text": [
      "Inner Join:     Customer_id    Name  OrderAmount\n",
      "0            1  Ramesh          250\n",
      "1            2  Suresh          450\n",
      "Outer join:     Customer_id     Name  OrderAmount\n",
      "0            1   Ramesh        250.0\n",
      "1            2   Suresh        450.0\n",
      "2            3  Kalpesh          NaN\n",
      "3            4      NaN        350.0\n",
      "Cross join:     Customer_id_x     Name  Customer_id_y  OrderAmount\n",
      "0              1   Ramesh              1          250\n",
      "1              1   Ramesh              2          450\n",
      "2              1   Ramesh              4          350\n",
      "3              2   Suresh              1          250\n",
      "4              2   Suresh              2          450\n",
      "5              2   Suresh              4          350\n",
      "6              3  Kalpesh              1          250\n",
      "7              3  Kalpesh              2          450\n",
      "8              3  Kalpesh              4          350\n"
     ]
    }
   ],
   "source": [
    "## pd.merge(df1, df2, on=\"Column_name\", how=\"type of join\")\n",
    "\n",
    "data1 = {\n",
    "    \"Customer_id\": [1,2,3],\n",
    "    \"Name\": [\"Ramesh\", \"Suresh\", \"Kalpesh\"],\n",
    "}\n",
    "\n",
    "df1 = pd.DataFrame(data1)\n",
    "\n",
    "data2 = {\n",
    "    \"Customer_id\": [1,2,4],\n",
    "    \"OrderAmount\": [250,450,350]\n",
    "}\n",
    "\n",
    "df2 = pd.DataFrame(data2)\n",
    "\n",
    "# inner join \n",
    "# combine only the common values in both the data frames \n",
    "df_merged = pd.merge(df1, df2, on=\"Customer_id\", how=\"inner\")\n",
    "print(\"Inner Join: \", df_merged)\n",
    "\n",
    "# outer join\n",
    "# give all values and give NaN at place of not finding the value\n",
    "df_merged = pd.merge(df1, df2, on=\"Customer_id\", how=\"outer\")\n",
    "print(\"Outer join: \", df_merged)\n",
    "\n",
    "# cross join \n",
    "# this will work like the n * m \n",
    "# means this will do the cartesian multiplication of each row pf first data frame with all the rows of the second data frame\n",
    "df_merged = pd.merge(df1, df2, how=\"cross\")\n",
    "print(\"Cross join: \", df_merged)"
   ]
  },
  {
   "cell_type": "markdown",
   "id": "9a17ff84",
   "metadata": {},
   "source": [
    "### Concatination"
   ]
  },
  {
   "cell_type": "code",
   "execution_count": null,
   "id": "17b3e298",
   "metadata": {},
   "outputs": [
    {
     "name": "stdout",
     "output_type": "stream",
     "text": [
      "   Customer_id   Name\n",
      "0            1  Gopal\n",
      "1            2   Raju\n",
      "2            1  Gopal\n",
      "3            2   Raju\n",
      "   0      1  2      3\n",
      "0  1  Gopal  1  Gopal\n",
      "1  2   Raju  2   Raju\n"
     ]
    }
   ],
   "source": [
    "## can do the concatination in 2 form \n",
    "## row wise (vertically)\n",
    "## column wise (horizontally)\n",
    "\n",
    "## Syntax -- pd.concate([df1, df2], axis = 0 , ignore_index = True)\n",
    "\n",
    "\n",
    "## combined vertically \n",
    "data1 = {\n",
    "    \"Customer_id\": [1,2],\n",
    "    \"Name\": [\"Gopal\", \"Raju\"]\n",
    "}\n",
    "\n",
    "df1 = pd.DataFrame(data1)\n",
    "\n",
    "data2 = {\n",
    "    \"Customer_id\": [3,4],\n",
    "    \"Name\": [\"Shyam\", \"Baburao\"]\n",
    "}\n",
    "\n",
    "df2 = pd.DataFrame(data1)\n",
    "\n",
    "\n",
    "## vertically concatination\n",
    "df_vertical_concat = pd.concat([df1, df2], axis=0 , ignore_index=True)\n",
    "print(df_vertical_concat)\n",
    "#    Customer_id   Name\n",
    "# 0            1  Gopal\n",
    "# 1            2   Raju\n",
    "# 2            1  Gopal\n",
    "# 3            2   Raju\n",
    "\n",
    "## horizontally concatination\n",
    "df_horizontal_concat = pd.concat([df1, df2], axis=1 , ignore_index=True)\n",
    "print(df_horizontal_concat)\n",
    "#    0      1  2      3\n",
    "# 0  1  Gopal  1  Gopal\n",
    "# 1  2   Raju  2   Raju\n",
    "\n"
   ]
  },
  {
   "cell_type": "code",
   "execution_count": null,
   "id": "a94b874c",
   "metadata": {},
   "outputs": [],
   "source": []
  }
 ],
 "metadata": {
  "kernelspec": {
   "display_name": ".venv",
   "language": "python",
   "name": "python3"
  },
  "language_info": {
   "codemirror_mode": {
    "name": "ipython",
    "version": 3
   },
   "file_extension": ".py",
   "mimetype": "text/x-python",
   "name": "python",
   "nbconvert_exporter": "python",
   "pygments_lexer": "ipython3",
   "version": "3.12.4"
  }
 },
 "nbformat": 4,
 "nbformat_minor": 5
}
