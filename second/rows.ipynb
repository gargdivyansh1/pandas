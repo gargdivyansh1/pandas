{
 "cells": [
  {
   "cell_type": "code",
   "execution_count": 1,
   "id": "ff4cd573",
   "metadata": {},
   "outputs": [],
   "source": [
    "import pandas as pd"
   ]
  },
  {
   "cell_type": "markdown",
   "id": "c3a11307",
   "metadata": {},
   "source": [
    "### Using head() and tail()"
   ]
  },
  {
   "cell_type": "code",
   "execution_count": 2,
   "id": "b542f4ec",
   "metadata": {},
   "outputs": [
    {
     "name": "stdout",
     "output_type": "stream",
     "text": [
      "Display top 10 rows:     id                                         name  \\\n",
      "0   1                              Apple iPhone 12   \n",
      "1   2                           Samsung Galaxy S21   \n",
      "2   3                           Sony PlayStation 5   \n",
      "3   4            LG OLED55CXPUA 55-inch 4K OLED TV   \n",
      "4   5  Bose QuietComfort 35 II Wireless Headphones   \n",
      "5   6                    Fitbit Versa 3 Smartwatch   \n",
      "6   7                       KitchenAid Stand Mixer   \n",
      "7   8           Dyson V11 Absolute Cordless Vacuum   \n",
      "8   9                   Ninja Foodi Smart XL Grill   \n",
      "9  10              Canon EOS Rebel T8i DSLR Camera   \n",
      "\n",
      "                                         description    price  \\\n",
      "0  The Apple iPhone 12 features a 6.1-inch Super ...   999.00   \n",
      "1  The Samsung Galaxy S21 features a 6.2-inch Dyn...   799.00   \n",
      "2  The Sony PlayStation 5 features an AMD Zen 2-b...   499.99   \n",
      "3  The LG OLED55CXPUA 55-inch 4K OLED TV features...  1599.99   \n",
      "4  The Bose QuietComfort 35 II Wireless Headphone...   299.00   \n",
      "5  The Fitbit Versa 3 Smartwatch features a built...   229.95   \n",
      "6  The KitchenAid Stand Mixer features a 5-quart ...   399.99   \n",
      "7  The Dyson V11 Absolute Cordless Vacuum feature...   699.99   \n",
      "8  The Ninja Foodi Smart XL Grill features 6-in-1...   279.99   \n",
      "9  The Canon EOS Rebel T8i DSLR Camera features a...   899.00   \n",
      "\n",
      "          category                                              image  \n",
      "0      Electronics  https://www.apple.com/newsroom/images/product/...  \n",
      "1      Electronics  https://images.samsung.com/is/image/samsung/p6...  \n",
      "2      Electronics  https://www.sony.com/image/44baa604124b770c824...  \n",
      "3      Electronics  https://www.lg.com/us/images/tvs/md07501804/ga...  \n",
      "4      Electronics  https://assets.bose.com/content/dam/Bose_DAM/W...  \n",
      "5      Electronics  https://www.fitbit.com/global/content/dam/fitb...  \n",
      "6   Home & Kitchen  https://www.kitchenaid.com/content/dam/global/...  \n",
      "7  Home Appliances  https://www.dysoncanada.ca/dam/dyson/images/pr...  \n",
      "8   Home & Kitchen  https://www.ninjakitchen.com/medias/Ninja-OP50...  \n",
      "9      Electronics  https://www.canon.com.au/-/media/images/produc...  \n",
      "Display bottom 10 rows:      id                                               name  \\\n",
      "10  11                                  Apple AirPods Pro   \n",
      "11  12        Bose QuietComfort 35 II Wireless Headphones   \n",
      "12  13                    Fitbit Charge 4 Fitness Tracker   \n",
      "13  14                              Samsung Galaxy Watch3   \n",
      "14  15  Sony WH-1000XM4 Wireless Noise-Cancelling Head...   \n",
      "15  16          Breville Barista Express Espresso Machine   \n",
      "16  17                        Keurig K-Elite Coffee Maker   \n",
      "17  18                     iRobot Roomba i7+ Robot Vacuum   \n",
      "18  19                   Ninja Foodi Digital Air Fry Oven   \n",
      "19  20                   Cuisinart ICE-70 Ice Cream Maker   \n",
      "\n",
      "                                          description   price        category  \\\n",
      "10  The Apple AirPods Pro feature active noise can...  249.00     Electronics   \n",
      "11  The Bose QuietComfort 35 II Wireless Headphone...  299.00     Electronics   \n",
      "12  The Fitbit Charge 4 Fitness Tracker features G...  129.95     Electronics   \n",
      "13  The Samsung Galaxy Watch3 features a rotating ...  399.99     Electronics   \n",
      "14  The Sony WH-1000XM4 Wireless Noise-Cancelling ...  349.99     Electronics   \n",
      "15  The Breville Barista Express Espresso Machine ...  699.95  Home & Kitchen   \n",
      "16  The Keurig K-Elite Coffee Maker features a str...  169.99  Home & Kitchen   \n",
      "17  The iRobot Roomba i7+ Robot Vacuum features au...  799.99  Home & Kitchen   \n",
      "18  The Ninja Foodi Digital Air Fry Oven features ...  209.99  Home & Kitchen   \n",
      "19  The Cuisinart ICE-70 Ice Cream Maker features ...  139.99  Home & Kitchen   \n",
      "\n",
      "                                                image  \n",
      "10  https://www.apple.com/v/airpods-pro/b/images/m...  \n",
      "11  https://assets.bose.com/content/dam/Bose_DAM/W...  \n",
      "12  https://www.fitbit.com/global/content/dam/fitb...  \n",
      "13  https://images.samsung.com/is/image/samsung/as...  \n",
      "14  https://www.sony.com/image/1cdd6354c4cd21cc4f7...  \n",
      "15  https://www.breville.com/content/dam/breville/...  \n",
      "16  https://www.keurig.com/content/dam/global-ecom...  \n",
      "17  https://store.irobot.com/default/i7-vacuuming-...  \n",
      "18  https://www.ninjakitchen.com/static/img/produc...  \n",
      "19  https://www.cuisinart.com/share/images/product...  \n"
     ]
    }
   ],
   "source": [
    "df = pd.read_json(\"sample_Data.json\")\n",
    "\n",
    "print(\"Display top 10 rows: \", df.head(10))\n",
    "print(\"Display bottom 10 rows: \", df.tail(10))"
   ]
  },
  {
   "cell_type": "markdown",
   "id": "9b9f2981",
   "metadata": {},
   "source": [
    "### Using info()"
   ]
  },
  {
   "cell_type": "code",
   "execution_count": 4,
   "id": "bcba7802",
   "metadata": {},
   "outputs": [
    {
     "name": "stdout",
     "output_type": "stream",
     "text": [
      "<class 'pandas.core.frame.DataFrame'>\n",
      "RangeIndex: 20 entries, 0 to 19\n",
      "Data columns (total 6 columns):\n",
      " #   Column       Non-Null Count  Dtype  \n",
      "---  ------       --------------  -----  \n",
      " 0   id           20 non-null     int64  \n",
      " 1   name         20 non-null     object \n",
      " 2   description  20 non-null     object \n",
      " 3   price        20 non-null     float64\n",
      " 4   category     20 non-null     object \n",
      " 5   image        20 non-null     object \n",
      "dtypes: float64(1), int64(1), object(4)\n",
      "memory usage: 1.1+ KB\n",
      "None\n"
     ]
    }
   ],
   "source": [
    "df = pd.read_json(\"sample_Data.json\")\n",
    "\n",
    "print(df.info())"
   ]
  },
  {
   "cell_type": "markdown",
   "id": "c2b66347",
   "metadata": {},
   "source": [
    "### Using describe()"
   ]
  },
  {
   "cell_type": "code",
   "execution_count": null,
   "id": "2e0be1d0",
   "metadata": {},
   "outputs": [
    {
     "name": "stdout",
     "output_type": "stream",
     "text": [
      "Sample Data:          Name  Age  Salary  Performance Score\n",
      "0        Ram   23  656565                 76\n",
      "1      Shyam   45  787887                 45\n",
      "2  Ghanshyam   32  899898                 32\n",
      "3      Aditi   45  344334                 86\n",
      "4    Jagdish   67  766767                 53\n",
      "5        Raj   89  545454                 46\n",
      "6     Simran   21  900909                 87\n",
      "Descriptive Data:              Age         Salary  Performance Score\n",
      "count   7.00000       7.000000           7.000000\n",
      "mean   46.00000  700259.142857          60.714286\n",
      "std    24.63737  201979.575104          22.028121\n",
      "min    21.00000  344334.000000          32.000000\n",
      "25%    27.50000  601009.500000          45.500000\n",
      "50%    45.00000  766767.000000          53.000000\n",
      "75%    56.00000  843892.500000          81.000000\n",
      "max    89.00000  900909.000000          87.000000\n"
     ]
    }
   ],
   "source": [
    "\n",
    "data = {\n",
    "    \"Name\": [\"Ram\", \"Shyam\", \"Ghanshyam\", \"Aditi\", \"Jagdish\", \"Raj\", \"Simran\"],\n",
    "    \"Age\": [23,45,32,45,67,89,21],\n",
    "    \"Salary\": [656565,787887,899898,344334,766767,545454,900909],\n",
    "    \"Performance Score\": [76,45,32,86,53,46,87]\n",
    "}\n",
    "\n",
    "df = pd.DataFrame(data)\n",
    "print(\"Sample Data: \", df)\n",
    "#         Name  Age  Salary  Performance Score\n",
    "# 0        Ram   23  656565                 76\n",
    "# 1      Shyam   45  787887                 45\n",
    "# 2  Ghanshyam   32  899898                 32\n",
    "# 3      Aditi   45  344334                 86\n",
    "# 4    Jagdish   67  766767                 53\n",
    "# 5        Raj   89  545454                 46\n",
    "# 6     Simran   21  900909                 87\n",
    "\n",
    "descriptive_Data = df.describe()\n",
    "print(\"Descriptive Data: \", descriptive_Data)\n",
    "#             Age         Salary  Performance Score\n",
    "# count   7.00000       7.000000           7.000000\n",
    "# mean   46.00000  700259.142857          60.714286\n",
    "# std    24.63737  201979.575104          22.028121\n",
    "# min    21.00000  344334.000000          32.000000\n",
    "# 25%    27.50000  601009.500000          45.500000\n",
    "# 50%    45.00000  766767.000000          53.000000\n",
    "# 75%    56.00000  843892.500000          81.000000\n",
    "# max    89.00000  900909.000000          87.000000"
   ]
  },
  {
   "cell_type": "markdown",
   "id": "82316b0d",
   "metadata": {},
   "source": [
    "### Shape and Columns"
   ]
  },
  {
   "cell_type": "code",
   "execution_count": null,
   "id": "9ed271f0",
   "metadata": {},
   "outputs": [
    {
     "name": "stdout",
     "output_type": "stream",
     "text": [
      "(7, 4)\n",
      "Index(['Name', 'Age', 'Salary', 'Performance Score'], dtype='object')\n"
     ]
    }
   ],
   "source": [
    "data = {\n",
    "    \"Name\": [\"Ram\", \"Shyam\", \"Ghanshyam\", \"Aditi\", \"Jagdish\", \"Raj\", \"Simran\"],\n",
    "    \"Age\": [23,45,32,45,67,89,21],\n",
    "    \"Salary\": [656565,787887,899898,344334,766767,545454,900909],\n",
    "    \"Performance_Score\": [76,45,32,86,53,46,87]\n",
    "}\n",
    "\n",
    "df = pd.DataFrame(data)\n",
    "print(df.shape) # (7, 4)\n",
    "print(df.columns) # Index(['Name', 'Age', 'Salary', 'Performance_Score'], dtype='object')"
   ]
  },
  {
   "cell_type": "markdown",
   "id": "1d5440a9",
   "metadata": {},
   "source": [
    "### Selecting Columns"
   ]
  },
  {
   "cell_type": "code",
   "execution_count": null,
   "id": "dfcbad44",
   "metadata": {},
   "outputs": [
    {
     "name": "stdout",
     "output_type": "stream",
     "text": [
      "Sample DataFrame:          Name  Age  Salary  Performance_Score\n",
      "0        Ram   23  656565                 76\n",
      "1      Shyam   45  787887                 45\n",
      "2  Ghanshyam   32  899898                 32\n",
      "3      Aditi   45  344334                 86\n",
      "4    Jagdish   67  766767                 53\n",
      "5        Raj   89  545454                 46\n",
      "6     Simran   21  900909                 87\n",
      "Single Column:  0    76\n",
      "1    45\n",
      "2    32\n",
      "3    86\n",
      "4    53\n",
      "5    46\n",
      "6    87\n",
      "Name: Performance_Score, dtype: int64\n",
      "Multiple Columns:     Age  Salary\n",
      "0   23  656565\n",
      "1   45  787887\n",
      "2   32  899898\n",
      "3   45  344334\n",
      "4   67  766767\n",
      "5   89  545454\n",
      "6   21  900909\n"
     ]
    }
   ],
   "source": [
    "## square bracktes are used for selecting columns  \n",
    "\n",
    "## if we are selecting a single column then it will return a series \n",
    "## Syntax -- df[\"Column1\"]\n",
    "\n",
    "## if we are selecting multiple columns then it will return a dataFrame\n",
    "## Syntax -- df[[\"Column1\", \"Column2\", ...]]\n",
    "\n",
    "\n",
    "data = {\n",
    "    \"Name\": [\"Ram\", \"Shyam\", \"Ghanshyam\", \"Aditi\", \"Jagdish\", \"Raj\", \"Simran\"],\n",
    "    \"Age\": [23,45,32,45,67,89,21],\n",
    "    \"Salary\": [656565,787887,899898,344334,766767,545454,900909],\n",
    "    \"Performance_Score\": [76,45,32,86,53,46,87]\n",
    "}\n",
    "\n",
    "df = pd.DataFrame(data)\n",
    "print(\"Sample DataFrame: \", df)\n",
    "#          Name  Age  Salary  Performance_Score\n",
    "# 0        Ram   23  656565                 76\n",
    "# 1      Shyam   45  787887                 45\n",
    "# 2  Ghanshyam   32  899898                 32\n",
    "# 3      Aditi   45  344334                 86\n",
    "# 4    Jagdish   67  766767                 53\n",
    "# 5        Raj   89  545454                 46\n",
    "# 6     Simran   21  900909                 87\n",
    "\n",
    "# accessing single column \n",
    "print(\"Single Column: \", df[\"Performance_Score\"])\n",
    "# 0    76\n",
    "# 1    45\n",
    "# 2    32\n",
    "# 3    86\n",
    "# 4    53\n",
    "# 5    46\n",
    "# 6    87\n",
    "\n",
    "# accessing multiple column\n",
    "print(\"Multiple Columns: \", df[[\"Age\", \"Salary\"]])\n",
    "#     Age  Salary\n",
    "# 0   23  656565\n",
    "# 1   45  787887\n",
    "# 2   32  899898\n",
    "# 3   45  344334\n",
    "# 4   67  766767\n",
    "# 5   89  545454\n",
    "# 6   21  900909"
   ]
  },
  {
   "cell_type": "markdown",
   "id": "896bd19a",
   "metadata": {},
   "source": [
    "### Filtering Rows"
   ]
  },
  {
   "cell_type": "code",
   "execution_count": null,
   "id": "c143bc97",
   "metadata": {},
   "outputs": [
    {
     "name": "stdout",
     "output_type": "stream",
     "text": [
      "Sample DataFrame:          Name  Age  Salary  Performance_Score\n",
      "0        Ram   23  656565                 76\n",
      "1      Shyam   45  787887                 45\n",
      "2  Ghanshyam   32  899898                 32\n",
      "3      Aditi   45  344334                 86\n",
      "4    Jagdish   67  766767                 53\n",
      "5        Raj   89  545454                 46\n",
      "6     Simran   21  900909                 87\n",
      "Single conditon based row selection:        Name  Age  Salary  Performance_Score\n",
      "0      Ram   23  656565                 76\n",
      "3    Aditi   45  344334                 86\n",
      "4  Jagdish   67  766767                 53\n",
      "6   Simran   21  900909                 87\n",
      "Multiple conditions based row selection:      Name  Age  Salary  Performance_Score\n",
      "1  Shyam   45  787887                 45\n",
      "5    Raj   89  545454                 46\n"
     ]
    }
   ],
   "source": [
    "## boolean conditions are used \n",
    "\n",
    "## if we are giving single condition  \n",
    "## Syntax -- df[df[\"Column1\"] > value]\n",
    "\n",
    "## if we are giving multiple conditions \n",
    "## Syntax -- df[(df[\"Column1\"] > value1) & (df[\"Column2\"] < value2) .....] -- we can use |(or) also\n",
    "\n",
    "\n",
    "data = {\n",
    "    \"Name\": [\"Ram\", \"Shyam\", \"Ghanshyam\", \"Aditi\", \"Jagdish\", \"Raj\", \"Simran\"],\n",
    "    \"Age\": [23,45,32,45,67,89,21],\n",
    "    \"Salary\": [656565,787887,899898,344334,766767,545454,900909],\n",
    "    \"Performance_Score\": [76,45,32,86,53,46,87]\n",
    "}\n",
    "\n",
    "df = pd.DataFrame(data)\n",
    "print(\"Sample DataFrame: \", df)\n",
    "#          Name  Age  Salary  Performance_Score\n",
    "# 0        Ram   23  656565                 76\n",
    "# 1      Shyam   45  787887                 45\n",
    "# 2  Ghanshyam   32  899898                 32\n",
    "# 3      Aditi   45  344334                 86\n",
    "# 4    Jagdish   67  766767                 53\n",
    "# 5        Raj   89  545454                 46\n",
    "# 6     Simran   21  900909                 87\n",
    "\n",
    "# on the basis of single condition\n",
    "print(\"Single conditon based row selection: \", df[df[\"Performance_Score\"] > 50])\n",
    "#        Name  Age  Salary  Performance_Score\n",
    "# 0      Ram   23  656565                 76\n",
    "# 3    Aditi   45  344334                 86\n",
    "# 4  Jagdish   67  766767                 53\n",
    "# 6   Simran   21  900909                 87\n",
    "\n",
    "# on the basis of multiple conditions\n",
    "print(\"Multiple conditions based row selection: \", df[ (df[\"Age\"] > 40) & (df[\"Performance_Score\"] < 50) ])\n",
    "#      Name  Age  Salary  Performance_Score\n",
    "# 1  Shyam   45  787887                 45\n",
    "# 5    Raj   89  545454                 46"
   ]
  },
  {
   "cell_type": "markdown",
   "id": "fef5b292",
   "metadata": {},
   "source": []
  }
 ],
 "metadata": {
  "kernelspec": {
   "display_name": ".venv",
   "language": "python",
   "name": "python3"
  },
  "language_info": {
   "codemirror_mode": {
    "name": "ipython",
    "version": 3
   },
   "file_extension": ".py",
   "mimetype": "text/x-python",
   "name": "python",
   "nbconvert_exporter": "python",
   "pygments_lexer": "ipython3",
   "version": "3.12.4"
  }
 },
 "nbformat": 4,
 "nbformat_minor": 5
}
